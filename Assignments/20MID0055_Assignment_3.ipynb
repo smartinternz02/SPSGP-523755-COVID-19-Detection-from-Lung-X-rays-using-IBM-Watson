{
  "nbformat": 4,
  "nbformat_minor": 0,
  "metadata": {
    "colab": {
      "provenance": []
    },
    "kernelspec": {
      "name": "python3",
      "display_name": "Python 3"
    },
    "language_info": {
      "name": "python"
    }
  },
  "cells": [
    {
      "cell_type": "code",
      "execution_count": 1,
      "metadata": {
        "id": "dd2B2Umb6lKJ",
        "colab": {
          "base_uri": "https://localhost:8080/"
        },
        "outputId": "a6bbef9b-aa70-4d70-a0ce-c79ed5d8d64e"
      },
      "outputs": [
        {
          "output_type": "stream",
          "name": "stdout",
          "text": [
            "Archive:  /content/drive/MyDrive/birds.zip\n",
            "   creating: birds/\n",
            "   creating: birds/test_data/\n",
            "   creating: birds/test_data/blasti/\n",
            "  inflating: birds/test_data/blasti/DSC_6396.jpg  \n",
            "  inflating: birds/test_data/blasti/DSC_6397.jpg  \n",
            "  inflating: birds/test_data/blasti/DSC_6398.jpg  \n",
            "  inflating: birds/test_data/blasti/DSC_6399.jpg  \n",
            "  inflating: birds/test_data/blasti/DSC_6400.jpg  \n",
            "  inflating: birds/test_data/blasti/DSC_6401.jpg  \n",
            "  inflating: birds/test_data/blasti/DSC_6402.jpg  \n",
            "  inflating: birds/test_data/blasti/DSC_6403.jpg  \n",
            "  inflating: birds/test_data/blasti/DSC_6405.jpg  \n",
            "  inflating: birds/test_data/blasti/DSC_6406.jpg  \n",
            "  inflating: birds/test_data/blasti/DSC_6407.jpg  \n",
            "  inflating: birds/test_data/blasti/DSC_6408.jpg  \n",
            "  inflating: birds/test_data/blasti/DSC_6409.jpg  \n",
            "  inflating: birds/test_data/blasti/DSC_6410.jpg  \n",
            "  inflating: birds/test_data/blasti/DSC_6411.jpg  \n",
            "   creating: birds/test_data/bonegl/\n",
            "  inflating: birds/test_data/bonegl/DSC_4587.jpg  \n",
            "  inflating: birds/test_data/bonegl/DSC_4588.jpg  \n",
            "  inflating: birds/test_data/bonegl/DSC_4589.jpg  \n",
            "  inflating: birds/test_data/bonegl/DSC_4590.jpg  \n",
            "  inflating: birds/test_data/bonegl/DSC_4591.jpg  \n",
            "  inflating: birds/test_data/bonegl/DSC_4592.jpg  \n",
            "  inflating: birds/test_data/bonegl/DSC_4593.jpg  \n",
            "   creating: birds/test_data/brhkyt/\n",
            "  inflating: birds/test_data/brhkyt/D72_0473.jpg  \n",
            "  inflating: birds/test_data/brhkyt/D72_0474.jpg  \n",
            "  inflating: birds/test_data/brhkyt/D72_0475.jpg  \n",
            "  inflating: birds/test_data/brhkyt/D72_0477.jpg  \n",
            "  inflating: birds/test_data/brhkyt/D72_0478.jpg  \n",
            "  inflating: birds/test_data/brhkyt/D72_0479.jpg  \n",
            "   creating: birds/test_data/cbrtsh/\n",
            "  inflating: birds/test_data/cbrtsh/_D32_10310.jpg  \n",
            "  inflating: birds/test_data/cbrtsh/_D32_10311.jpg  \n",
            "  inflating: birds/test_data/cbrtsh/_D32_10312.jpg  \n",
            "  inflating: birds/test_data/cbrtsh/_D32_10313.jpg  \n",
            "  inflating: birds/test_data/cbrtsh/_D32_10314.jpg  \n",
            "  inflating: birds/test_data/cbrtsh/_D32_10317.jpg  \n",
            "  inflating: birds/test_data/cbrtsh/_D32_10318.jpg  \n",
            "   creating: birds/test_data/cmnmyn/\n",
            "  inflating: birds/test_data/cmnmyn/DSC_2443.jpg  \n",
            "  inflating: birds/test_data/cmnmyn/DSC_4681.jpg  \n",
            "  inflating: birds/test_data/cmnmyn/DSC_5137.jpg  \n",
            "  inflating: birds/test_data/cmnmyn/DSC_7625.jpg  \n",
            "  inflating: birds/test_data/cmnmyn/P1050277.jpg  \n",
            "  inflating: birds/test_data/cmnmyn/_D32_12426.jpg  \n",
            "  inflating: birds/test_data/cmnmyn/_D32_12427.jpg  \n",
            "  inflating: birds/test_data/cmnmyn/_D32_12428.jpg  \n",
            "   creating: birds/test_data/gretit/\n",
            "  inflating: birds/test_data/gretit/11620454726_31a35c26da_o.jpg  \n",
            "  inflating: birds/test_data/gretit/11776135285_ccf938fa2e_o.jpg  \n",
            "  inflating: birds/test_data/gretit/11905645146_6a5d4ff9f9_o.jpg  \n",
            "  inflating: birds/test_data/gretit/8537646712_0b282c4c6a_o.jpg  \n",
            "  inflating: birds/test_data/gretit/D72_0693.jpg  \n",
            "  inflating: birds/test_data/gretit/D72_0694.jpg  \n",
            "  inflating: birds/test_data/gretit/D72_0695.jpg  \n",
            "   creating: birds/test_data/hilpig/\n",
            "  inflating: birds/test_data/hilpig/DSC_6359.jpg  \n",
            "  inflating: birds/test_data/hilpig/DSC_6362.jpg  \n",
            "  inflating: birds/test_data/hilpig/DSC_6364.jpg  \n",
            "  inflating: birds/test_data/hilpig/DSC_6368.jpg  \n",
            "  inflating: birds/test_data/hilpig/DSC_6403.jpg  \n",
            "  inflating: birds/test_data/hilpig/DSC_6404.jpg  \n",
            "  inflating: birds/test_data/hilpig/P1000319.jpg  \n",
            "  inflating: birds/test_data/hilpig/P1000323.jpg  \n",
            "  inflating: birds/test_data/hilpig/P1050044.jpg  \n",
            "  inflating: birds/test_data/hilpig/P1050045.jpg  \n",
            "   creating: birds/test_data/himbul/\n",
            "  inflating: birds/test_data/himbul/11602064885_3826df4500_o.jpg  \n",
            "  inflating: birds/test_data/himbul/11619942574_42f23a7b05_o.jpg  \n",
            "  inflating: birds/test_data/himbul/11620097904_33fa8ee878_o.jpg  \n",
            "  inflating: birds/test_data/himbul/5857371972_ed4f88b275_o.jpg  \n",
            "  inflating: birds/test_data/himbul/6154954471_eefe6e00d1_o.jpg  \n",
            "  inflating: birds/test_data/himbul/D72_0688.jpg  \n",
            "  inflating: birds/test_data/himbul/D72_0691.jpg  \n",
            "  inflating: birds/test_data/himbul/DSC08357.jpg  \n",
            "  inflating: birds/test_data/himbul/DSC_3230.jpg  \n",
            "  inflating: birds/test_data/himbul/DSC_7439.jpg  \n",
            "  inflating: birds/test_data/himbul/DSC_7602.jpg  \n",
            "  inflating: birds/test_data/himbul/P1060368.jpg  \n",
            "  inflating: birds/test_data/himbul/P1060369.jpg  \n",
            "  inflating: birds/test_data/himbul/_D32_10242.jpg  \n",
            "  inflating: birds/test_data/himbul/_D32_10245.jpg  \n",
            "  inflating: birds/test_data/himbul/_D32_10251.jpg  \n",
            "  inflating: birds/test_data/himbul/_D32_10319.jpg  \n",
            "  inflating: birds/test_data/himbul/_D32_10320.jpg  \n",
            "  inflating: birds/test_data/himbul/_DSC9446.jpg  \n",
            "   creating: birds/test_data/himgri/\n",
            "  inflating: birds/test_data/himgri/IMG_5384.JPG  \n",
            "  inflating: birds/test_data/himgri/IMG_5385.JPG  \n",
            "  inflating: birds/test_data/himgri/IMG_5386.JPG  \n",
            "  inflating: birds/test_data/himgri/IMG_5387.JPG  \n",
            "  inflating: birds/test_data/himgri/IMG_5459.JPG  \n",
            "  inflating: birds/test_data/himgri/IMG_5460.JPG  \n",
            "  inflating: birds/test_data/himgri/IMG_5487.JPG  \n",
            "  inflating: birds/test_data/himgri/IMG_5488.JPG  \n",
            "  inflating: birds/test_data/himgri/IMG_5489.JPG  \n",
            "  inflating: birds/test_data/himgri/IMG_5490.JPG  \n",
            "  inflating: birds/test_data/himgri/IMG_5491.JPG  \n",
            "  inflating: birds/test_data/himgri/IMG_5492.JPG  \n",
            "  inflating: birds/test_data/himgri/P1020742.jpg  \n",
            "  inflating: birds/test_data/himgri/P1020743.jpg  \n",
            "  inflating: birds/test_data/himgri/P1020746.jpg  \n",
            "  inflating: birds/test_data/himgri/P1020748.jpg  \n",
            "  inflating: birds/test_data/himgri/P1030055.jpg  \n",
            "  inflating: birds/test_data/himgri/P1060776.jpg  \n",
            "  inflating: birds/test_data/himgri/P1060777.jpg  \n",
            "  inflating: birds/test_data/himgri/P1060778.jpg  \n",
            "   creating: birds/test_data/hsparo/\n",
            "  inflating: birds/test_data/hsparo/100_5573.JPG  \n",
            "  inflating: birds/test_data/hsparo/100_5585.JPG  \n",
            "  inflating: birds/test_data/hsparo/100_5586.JPG  \n",
            "  inflating: birds/test_data/hsparo/100_5742.JPG  \n",
            "  inflating: birds/test_data/hsparo/12265273154_48e0fefd42_o.jpg  \n",
            "  inflating: birds/test_data/hsparo/DSC_4521.jpg  \n",
            "  inflating: birds/test_data/hsparo/DSC_7619.jpg  \n",
            "  inflating: birds/test_data/hsparo/_DSC_11244.jpg  \n",
            "  inflating: birds/test_data/hsparo/_DSC_11246.jpg  \n",
            "   creating: birds/test_data/indvul/\n",
            "  inflating: birds/test_data/indvul/DSC_1263.jpg  \n",
            "  inflating: birds/test_data/indvul/DSC_1273.jpg  \n",
            "  inflating: birds/test_data/indvul/DSC_1274.jpg  \n",
            "  inflating: birds/test_data/indvul/DSC_1275.jpg  \n",
            "  inflating: birds/test_data/indvul/DSC_1277.jpg  \n",
            "  inflating: birds/test_data/indvul/_DSC8754.jpg  \n",
            "  inflating: birds/test_data/indvul/_DSC9520.jpg  \n",
            "  inflating: birds/test_data/indvul/_DSC9521.jpg  \n",
            "  inflating: birds/test_data/indvul/_DSC9523.jpg  \n",
            "   creating: birds/test_data/jglowl/\n",
            "  inflating: birds/test_data/jglowl/_D32_10584.jpg  \n",
            "  inflating: birds/test_data/jglowl/_D32_10587.jpg  \n",
            "  inflating: birds/test_data/jglowl/_D32_10593.jpg  \n",
            "  inflating: birds/test_data/jglowl/_D32_13515.jpg  \n",
            "  inflating: birds/test_data/jglowl/_D32_13516.jpg  \n",
            "  inflating: birds/test_data/jglowl/_D32_13517.jpg  \n",
            "   creating: birds/test_data/lbicrw/\n",
            "  inflating: birds/test_data/lbicrw/100_4917.JPG  \n",
            "  inflating: birds/test_data/lbicrw/IMG_5538.JPG  \n",
            "  inflating: birds/test_data/lbicrw/IMG_5541.JPG  \n",
            "  inflating: birds/test_data/lbicrw/IMG_5543.JPG  \n",
            "  inflating: birds/test_data/lbicrw/IMG_5544.JPG  \n",
            "  inflating: birds/test_data/lbicrw/P1030030.jpg  \n",
            "   creating: birds/test_data/mgprob/\n",
            "  inflating: birds/test_data/mgprob/100_5811.JPG  \n",
            "  inflating: birds/test_data/mgprob/100_5812.JPG  \n",
            "  inflating: birds/test_data/mgprob/100_5813.JPG  \n",
            "  inflating: birds/test_data/mgprob/DSC_3233.jpg  \n",
            "  inflating: birds/test_data/mgprob/_DSC0085.jpg  \n",
            "  inflating: birds/test_data/mgprob/_DSC0133.jpg  \n",
            "  inflating: birds/test_data/mgprob/_DSC0135.jpg  \n",
            "   creating: birds/test_data/rebimg/\n",
            "  inflating: birds/test_data/rebimg/100_5756.JPG  \n",
            "  inflating: birds/test_data/rebimg/100_5757.JPG  \n",
            "  inflating: birds/test_data/rebimg/100_5758.JPG  \n",
            "  inflating: birds/test_data/rebimg/100_5759.JPG  \n",
            "  inflating: birds/test_data/rebimg/100_5760.JPG  \n",
            "  inflating: birds/test_data/rebimg/13009302395_5d88a9d62b_o.jpg  \n",
            "  inflating: birds/test_data/rebimg/13009315305_f1cbfb6767_o.jpg  \n",
            "  inflating: birds/test_data/rebimg/13009451823_8eb502581f_o.jpg  \n",
            "  inflating: birds/test_data/rebimg/DSC_7148.jpg  \n",
            "  inflating: birds/test_data/rebimg/IMG_5251.JPG  \n",
            "  inflating: birds/test_data/rebimg/IMG_5252.JPG  \n",
            "   creating: birds/test_data/wcrsrt/\n",
            "  inflating: birds/test_data/wcrsrt/100_4462.JPG  \n",
            "  inflating: birds/test_data/wcrsrt/100_4463.JPG  \n",
            "  inflating: birds/test_data/wcrsrt/100_4464.JPG  \n",
            "  inflating: birds/test_data/wcrsrt/100_4466.JPG  \n",
            "  inflating: birds/test_data/wcrsrt/100_4467.JPG  \n",
            "  inflating: birds/test_data/wcrsrt/100_4468.JPG  \n",
            "  inflating: birds/test_data/wcrsrt/100_5103.JPG  \n",
            "  inflating: birds/test_data/wcrsrt/100_5105.JPG  \n",
            "  inflating: birds/test_data/wcrsrt/11382677585_ef6570a041_o.jpg  \n",
            "  inflating: birds/test_data/wcrsrt/11382746854_7ce73793b3_o.jpg  \n",
            "   creating: birds/train_data/\n",
            "   creating: birds/train_data/blasti/\n",
            "  inflating: birds/train_data/blasti/DSC_6382.jpg  \n",
            "  inflating: birds/train_data/blasti/DSC_6383.jpg  \n",
            "  inflating: birds/train_data/blasti/DSC_6384-2.jpg  \n",
            "  inflating: birds/train_data/blasti/DSC_6384.jpg  \n",
            "  inflating: birds/train_data/blasti/DSC_6385.jpg  \n",
            "  inflating: birds/train_data/blasti/DSC_6386.jpg  \n",
            "  inflating: birds/train_data/blasti/DSC_6387.jpg  \n",
            "  inflating: birds/train_data/blasti/DSC_6388.jpg  \n",
            "  inflating: birds/train_data/blasti/DSC_6389.jpg  \n",
            "  inflating: birds/train_data/blasti/DSC_6390.jpg  \n",
            "  inflating: birds/train_data/blasti/DSC_6391.jpg  \n",
            "  inflating: birds/train_data/blasti/DSC_6392.jpg  \n",
            "  inflating: birds/train_data/blasti/DSC_6393.jpg  \n",
            "  inflating: birds/train_data/blasti/DSC_6394.jpg  \n",
            "  inflating: birds/train_data/blasti/DSC_6395.jpg  \n",
            "   creating: birds/train_data/bonegl/\n",
            "  inflating: birds/train_data/bonegl/DSC_4570.jpg  \n",
            "  inflating: birds/train_data/bonegl/DSC_4571.jpg  \n",
            "  inflating: birds/train_data/bonegl/DSC_4583.jpg  \n",
            "  inflating: birds/train_data/bonegl/DSC_4584.jpg  \n",
            "  inflating: birds/train_data/bonegl/DSC_4585.jpg  \n",
            "  inflating: birds/train_data/bonegl/DSC_4586.jpg  \n",
            "   creating: birds/train_data/brhkyt/\n",
            "  inflating: birds/train_data/brhkyt/D72_0400.jpg  \n",
            "  inflating: birds/train_data/brhkyt/D72_0401.jpg  \n",
            "  inflating: birds/train_data/brhkyt/D72_0470.jpg  \n",
            "  inflating: birds/train_data/brhkyt/D72_0471.jpg  \n",
            "  inflating: birds/train_data/brhkyt/D72_0472.jpg  \n",
            "   creating: birds/train_data/cbrtsh/\n",
            "  inflating: birds/train_data/cbrtsh/100_5097.JPG  \n",
            "  inflating: birds/train_data/cbrtsh/_D32_10303.jpg  \n",
            "  inflating: birds/train_data/cbrtsh/_D32_10305.jpg  \n",
            "  inflating: birds/train_data/cbrtsh/_D32_10306.jpg  \n",
            "  inflating: birds/train_data/cbrtsh/_D32_10307.jpg  \n",
            "  inflating: birds/train_data/cbrtsh/_D32_10308.jpg  \n",
            "  inflating: birds/train_data/cbrtsh/_D32_10309.jpg  \n",
            "   creating: birds/train_data/cmnmyn/\n",
            "  inflating: birds/train_data/cmnmyn/100_5763.JPG  \n",
            "  inflating: birds/train_data/cmnmyn/5866682091_870ccc946c_o.jpg  \n",
            "  inflating: birds/train_data/cmnmyn/6154956165_64266b8b53_o.jpg  \n",
            "  inflating: birds/train_data/cmnmyn/DSCN5784.jpg  \n",
            "  inflating: birds/train_data/cmnmyn/DSCN5787.jpg  \n",
            "  inflating: birds/train_data/cmnmyn/DSCN5790.jpg  \n",
            "  inflating: birds/train_data/cmnmyn/DSCN5791.jpg  \n",
            "   creating: birds/train_data/gretit/\n",
            "  inflating: birds/train_data/gretit/100_5042.JPG  \n",
            "  inflating: birds/train_data/gretit/100_5043.JPG  \n",
            "  inflating: birds/train_data/gretit/100_5044.JPG  \n",
            "  inflating: birds/train_data/gretit/100_5045.JPG  \n",
            "  inflating: birds/train_data/gretit/100_5046.JPG  \n",
            "  inflating: birds/train_data/gretit/100_5047.JPG  \n",
            "   creating: birds/train_data/hilpig/\n",
            "  inflating: birds/train_data/hilpig/DSC_6272.jpg  \n",
            "  inflating: birds/train_data/hilpig/DSC_6273.jpg  \n",
            "  inflating: birds/train_data/hilpig/DSC_6274.jpg  \n",
            "  inflating: birds/train_data/hilpig/DSC_6275.jpg  \n",
            "  inflating: birds/train_data/hilpig/DSC_6350.jpg  \n",
            "  inflating: birds/train_data/hilpig/DSC_6351.jpg  \n",
            "  inflating: birds/train_data/hilpig/DSC_6352.jpg  \n",
            "  inflating: birds/train_data/hilpig/DSC_6353.jpg  \n",
            "  inflating: birds/train_data/hilpig/DSC_6354.jpg  \n",
            "  inflating: birds/train_data/hilpig/DSC_6358.jpg  \n",
            "   creating: birds/train_data/himbul/\n",
            "  inflating: birds/train_data/himbul/100_5028.JPG  \n",
            "  inflating: birds/train_data/himbul/100_5029.JPG  \n",
            "  inflating: birds/train_data/himbul/100_5096.JPG  \n",
            "  inflating: birds/train_data/himbul/100_5099.JPG  \n",
            "  inflating: birds/train_data/himbul/100_5100.JPG  \n",
            "  inflating: birds/train_data/himbul/100_5102.JPG  \n",
            "  inflating: birds/train_data/himbul/100_5110.JPG  \n",
            "  inflating: birds/train_data/himbul/100_5112.JPG  \n",
            "  inflating: birds/train_data/himbul/100_5113.JPG  \n",
            "  inflating: birds/train_data/himbul/100_5159.JPG  \n",
            "  inflating: birds/train_data/himbul/100_5160.JPG  \n",
            "  inflating: birds/train_data/himbul/100_5161.JPG  \n",
            "  inflating: birds/train_data/himbul/100_5162.JPG  \n",
            "  inflating: birds/train_data/himbul/10774570945_9bc537c255_o.jpg  \n",
            "  inflating: birds/train_data/himbul/11383838134_96e891a316_o.jpg  \n",
            "  inflating: birds/train_data/himbul/11383857084_cdd7514746_o.jpg  \n",
            "  inflating: birds/train_data/himbul/11387473723_464965720a_o.jpg  \n",
            "  inflating: birds/train_data/himbul/9007817678_24db19fc63_o.jpg  \n",
            "   creating: birds/train_data/himgri/\n",
            "  inflating: birds/train_data/himgri/12029790563_2fe54a68aa_o.jpg  \n",
            "  inflating: birds/train_data/himgri/12029822653_1185544e7b_o.jpg  \n",
            "  inflating: birds/train_data/himgri/12029933015_802428e277_o.jpg  \n",
            "  inflating: birds/train_data/himgri/12029987304_031b7a2d53_o.jpg  \n",
            "  inflating: birds/train_data/himgri/12030165813_f5341e8ed0_o.jpg  \n",
            "  inflating: birds/train_data/himgri/12030221124_1baaf905d1_o.jpg  \n",
            "  inflating: birds/train_data/himgri/12030269234_1c3f5a8e8c_o.jpg  \n",
            "  inflating: birds/train_data/himgri/12152037683_13e1556c41_o.jpg  \n",
            "  inflating: birds/train_data/himgri/12152178844_dc29e3126f_o.jpg  \n",
            "  inflating: birds/train_data/himgri/12152510436_23b62fed3b_o.jpg  \n",
            "  inflating: birds/train_data/himgri/12265055185_138e3c7c70_o.jpg  \n",
            "  inflating: birds/train_data/himgri/12265498144_d2e80faa3b_o.jpg  \n",
            "  inflating: birds/train_data/himgri/12265561764_4814951031_o.jpg  \n",
            "  inflating: birds/train_data/himgri/12265582724_61cb64e73a_o.jpg  \n",
            "  inflating: birds/train_data/himgri/12265738206_2b9b25cc8a_o.jpg  \n",
            "  inflating: birds/train_data/himgri/12265747116_d4b4fa3741_o.jpg  \n",
            "  inflating: birds/train_data/himgri/12266053036_fcab92d8e8_o.jpg  \n",
            "  inflating: birds/train_data/himgri/12266077576_1d7143aaf7_o.jpg  \n",
            "  inflating: birds/train_data/himgri/12266086526_82cd337667_o.jpg  \n",
            "  inflating: birds/train_data/himgri/IMG_5463.JPG  \n",
            "   creating: birds/train_data/hsparo/\n",
            "  inflating: birds/train_data/hsparo/100_4757.JPG  \n",
            "  inflating: birds/train_data/hsparo/100_4758.JPG  \n",
            "  inflating: birds/train_data/hsparo/100_5039.JPG  \n",
            "  inflating: birds/train_data/hsparo/100_5040.JPG  \n",
            "  inflating: birds/train_data/hsparo/100_5041.JPG  \n",
            "  inflating: birds/train_data/hsparo/100_5048.JPG  \n",
            "  inflating: birds/train_data/hsparo/100_5049.JPG  \n",
            "  inflating: birds/train_data/hsparo/100_5050.JPG  \n",
            "  inflating: birds/train_data/hsparo/100_5572.JPG  \n",
            "   creating: birds/train_data/indvul/\n",
            "  inflating: birds/train_data/indvul/DSC_0502.jpg  \n",
            "  inflating: birds/train_data/indvul/DSC_0571e.jpg  \n",
            "  inflating: birds/train_data/indvul/DSC_0572.jpg  \n",
            "  inflating: birds/train_data/indvul/DSC_0576e.jpg  \n",
            "  inflating: birds/train_data/indvul/DSC_0582.jpg  \n",
            "  inflating: birds/train_data/indvul/DSC_0583e.jpg  \n",
            "  inflating: birds/train_data/indvul/DSC_0584.jpg  \n",
            "  inflating: birds/train_data/indvul/DSC_0616c.jpg  \n",
            "  inflating: birds/train_data/indvul/DSC_0617.jpg  \n",
            "   creating: birds/train_data/jglowl/\n",
            "  inflating: birds/train_data/jglowl/12152151476_7a1524aabb_o.jpg  \n",
            "  inflating: birds/train_data/jglowl/DSC01335.jpg  \n",
            "  inflating: birds/train_data/jglowl/DSC01336.jpg  \n",
            "  inflating: birds/train_data/jglowl/_D32_10285.jpg  \n",
            "  inflating: birds/train_data/jglowl/_D32_10578.jpg  \n",
            "  inflating: birds/train_data/jglowl/_D32_10583.jpg  \n",
            "   creating: birds/train_data/lbicrw/\n",
            "  inflating: birds/train_data/lbicrw/100_4037.JPG  \n",
            "  inflating: birds/train_data/lbicrw/100_4912.JPG  \n",
            "  inflating: birds/train_data/lbicrw/100_4913.JPG  \n",
            "  inflating: birds/train_data/lbicrw/100_4914.JPG  \n",
            "  inflating: birds/train_data/lbicrw/100_4915.JPG  \n",
            "  inflating: birds/train_data/lbicrw/100_4916.JPG  \n",
            "   creating: birds/train_data/mgprob/\n",
            "  inflating: birds/train_data/mgprob/100_5587.JPG  \n",
            "  inflating: birds/train_data/mgprob/100_5588.JPG  \n",
            "  inflating: birds/train_data/mgprob/100_5589.JPG  \n",
            "  inflating: birds/train_data/mgprob/100_5590.JPG  \n",
            "  inflating: birds/train_data/mgprob/100_5592.JPG  \n",
            "  inflating: birds/train_data/mgprob/100_5762.JPG  \n",
            "   creating: birds/train_data/rebimg/\n",
            "  inflating: birds/train_data/rebimg/100_5744.JPG  \n",
            "  inflating: birds/train_data/rebimg/100_5745.JPG  \n",
            "  inflating: birds/train_data/rebimg/100_5746.JPG  \n",
            "  inflating: birds/train_data/rebimg/100_5748.JPG  \n",
            "  inflating: birds/train_data/rebimg/100_5749.JPG  \n",
            "  inflating: birds/train_data/rebimg/100_5750.JPG  \n",
            "  inflating: birds/train_data/rebimg/100_5751.JPG  \n",
            "  inflating: birds/train_data/rebimg/100_5752.JPG  \n",
            "  inflating: birds/train_data/rebimg/100_5754.JPG  \n",
            "  inflating: birds/train_data/rebimg/100_5755.JPG  \n",
            "   creating: birds/train_data/wcrsrt/\n",
            "  inflating: birds/train_data/wcrsrt/100_4452.JPG  \n",
            "  inflating: birds/train_data/wcrsrt/100_4453.JPG  \n",
            "  inflating: birds/train_data/wcrsrt/100_4454.JPG  \n",
            "  inflating: birds/train_data/wcrsrt/100_4455.JPG  \n",
            "  inflating: birds/train_data/wcrsrt/100_4456.JPG  \n",
            "  inflating: birds/train_data/wcrsrt/100_4457.JPG  \n",
            "  inflating: birds/train_data/wcrsrt/100_4458.JPG  \n",
            "  inflating: birds/train_data/wcrsrt/100_4459.JPG  \n",
            "  inflating: birds/train_data/wcrsrt/100_4460.JPG  \n",
            "  inflating: birds/train_data/wcrsrt/100_4461.JPG  \n"
          ]
        }
      ],
      "source": [
        "!unzip '/content/drive/MyDrive/birds.zip'"
      ]
    },
    {
      "cell_type": "code",
      "source": [
        "from tensorflow.keras.preprocessing.image import ImageDataGenerator"
      ],
      "metadata": {
        "id": "Bf_dNKsR7a8q"
      },
      "execution_count": 2,
      "outputs": []
    },
    {
      "cell_type": "code",
      "source": [
        "train_path = '/content/birds/train_data'\n",
        "test_path = '/content/birds/test_data'"
      ],
      "metadata": {
        "id": "fIQB5d4a7CWH"
      },
      "execution_count": 3,
      "outputs": []
    },
    {
      "cell_type": "code",
      "source": [
        "train_gen = ImageDataGenerator(rescale=(1./255),\n",
        "                               horizontal_flip=True,shear_range=0.2)\n",
        "test_gen = ImageDataGenerator(rescale=(1./255))  "
      ],
      "metadata": {
        "id": "nMXzGC_27VES"
      },
      "execution_count": 4,
      "outputs": []
    },
    {
      "cell_type": "code",
      "source": [
        "#get the image data\n",
        "\n",
        "train = train_gen.flow_from_directory(train_path,\n",
        "                                      target_size=(120, 120),\n",
        "                                      class_mode='categorical', \n",
        "                                      batch_size=8)\n",
        "test = test_gen.flow_from_directory(test_path,\n",
        "                                    target_size=(120, 120),\n",
        "                                    class_mode='categorical', \n",
        "                                    batch_size=8)"
      ],
      "metadata": {
        "colab": {
          "base_uri": "https://localhost:8080/"
        },
        "id": "l5JkavEx7eiu",
        "outputId": "1589c2bf-b16c-4c4c-b41c-e08415898671"
      },
      "execution_count": 5,
      "outputs": [
        {
          "output_type": "stream",
          "name": "stdout",
          "text": [
            "Found 150 images belonging to 16 classes.\n",
            "Found 157 images belonging to 16 classes.\n"
          ]
        }
      ]
    },
    {
      "cell_type": "code",
      "source": [
        "train.class_indices"
      ],
      "metadata": {
        "id": "XUGfuSFa7oHq",
        "colab": {
          "base_uri": "https://localhost:8080/"
        },
        "outputId": "e7842c23-473f-489c-b01f-3e3ba0421241"
      },
      "execution_count": 6,
      "outputs": [
        {
          "output_type": "execute_result",
          "data": {
            "text/plain": [
              "{'blasti': 0,\n",
              " 'bonegl': 1,\n",
              " 'brhkyt': 2,\n",
              " 'cbrtsh': 3,\n",
              " 'cmnmyn': 4,\n",
              " 'gretit': 5,\n",
              " 'hilpig': 6,\n",
              " 'himbul': 7,\n",
              " 'himgri': 8,\n",
              " 'hsparo': 9,\n",
              " 'indvul': 10,\n",
              " 'jglowl': 11,\n",
              " 'lbicrw': 12,\n",
              " 'mgprob': 13,\n",
              " 'rebimg': 14,\n",
              " 'wcrsrt': 15}"
            ]
          },
          "metadata": {},
          "execution_count": 6
        }
      ]
    },
    {
      "cell_type": "code",
      "source": [
        "#import libraries\n",
        "from tensorflow.keras.layers import Convolution2D,MaxPooling2D,Flatten,Dense\n",
        "from tensorflow.keras.models import Sequential"
      ],
      "metadata": {
        "id": "2I1gubqj7qkA"
      },
      "execution_count": 7,
      "outputs": []
    },
    {
      "cell_type": "code",
      "source": [
        "model = Sequential()\n",
        "model.add(Convolution2D(20,(3,3),activation='relu',input_shape=(120, 120, 3)))\n",
        "model.add(MaxPooling2D(pool_size=(2,2)))\n",
        "model.add(Flatten())\n",
        "model.add(Dense(45,activation='relu'))\n",
        "model.add(Dense(16,activation='softmax'))"
      ],
      "metadata": {
        "id": "gyWY1tFa70GH"
      },
      "execution_count": 30,
      "outputs": []
    },
    {
      "cell_type": "code",
      "source": [
        "model.compile(optimizer='adam',loss='categorical_crossentropy',metrics=['accuracy'])"
      ],
      "metadata": {
        "id": "6zre-Rwf714W"
      },
      "execution_count": 31,
      "outputs": []
    },
    {
      "cell_type": "code",
      "source": [
        "model.fit(train,batch_size=8,validation_data=test,epochs=10)"
      ],
      "metadata": {
        "id": "93M-usPf7_LY",
        "colab": {
          "base_uri": "https://localhost:8080/"
        },
        "outputId": "deb56873-f690-4ddb-a6a9-21953667b078"
      },
      "execution_count": 32,
      "outputs": [
        {
          "output_type": "stream",
          "name": "stdout",
          "text": [
            "Epoch 1/10\n",
            "19/19 [==============================] - 78s 4s/step - loss: 5.1396 - accuracy: 0.1000 - val_loss: 2.7584 - val_accuracy: 0.1592\n",
            "Epoch 2/10\n",
            "19/19 [==============================] - 72s 4s/step - loss: 2.6261 - accuracy: 0.1867 - val_loss: 2.7095 - val_accuracy: 0.1146\n",
            "Epoch 3/10\n",
            "19/19 [==============================] - 72s 4s/step - loss: 2.5262 - accuracy: 0.1867 - val_loss: 2.7074 - val_accuracy: 0.1783\n",
            "Epoch 4/10\n",
            "19/19 [==============================] - 71s 4s/step - loss: 2.3738 - accuracy: 0.2600 - val_loss: 2.7278 - val_accuracy: 0.1783\n",
            "Epoch 5/10\n",
            "19/19 [==============================] - 72s 4s/step - loss: 2.2149 - accuracy: 0.2600 - val_loss: 2.6090 - val_accuracy: 0.1783\n",
            "Epoch 6/10\n",
            "19/19 [==============================] - 71s 4s/step - loss: 1.9683 - accuracy: 0.3067 - val_loss: 2.7809 - val_accuracy: 0.1465\n",
            "Epoch 7/10\n",
            "19/19 [==============================] - 72s 4s/step - loss: 1.8255 - accuracy: 0.3333 - val_loss: 2.7291 - val_accuracy: 0.1529\n",
            "Epoch 8/10\n",
            "19/19 [==============================] - 71s 4s/step - loss: 1.6463 - accuracy: 0.3933 - val_loss: 2.6673 - val_accuracy: 0.1783\n",
            "Epoch 9/10\n",
            "19/19 [==============================] - 70s 4s/step - loss: 1.4125 - accuracy: 0.4867 - val_loss: 2.6989 - val_accuracy: 0.2038\n",
            "Epoch 10/10\n",
            "19/19 [==============================] - 72s 4s/step - loss: 1.2468 - accuracy: 0.6133 - val_loss: 2.8947 - val_accuracy: 0.2484\n"
          ]
        },
        {
          "output_type": "execute_result",
          "data": {
            "text/plain": [
              "<keras.callbacks.History at 0x7f260700b640>"
            ]
          },
          "metadata": {},
          "execution_count": 32
        }
      ]
    },
    {
      "cell_type": "code",
      "source": [
        "# Testing 1\n",
        "img1 = image.load_img('/content/birds/test_data/blasti/DSC_6396.jpg',target_size=(120,120))\n",
        "img1 = image.img_to_array(img1)\n",
        "img1 = np.expand_dims(img1,axis=0)\n",
        "pred = np.argmax(model.predict(img1))\n",
        "print(pred)\n",
        "output = ['blasti', 'bonegl', 'brhkyt', 'cbrtsh', 'cmnmyn', 'gretit', 'hilpig', 'himbul', 'himgri', 'hsparo', 'indvul', 'jglowl', 'lbicrw', 'mgprob', 'rebimg', 'wcrsrt']\n",
        "print(output[pred])"
      ],
      "metadata": {
        "colab": {
          "base_uri": "https://localhost:8080/"
        },
        "id": "4K-PKpq0K0hR",
        "outputId": "eee73be4-7f3f-41b8-ff2c-9b2c66b40671"
      },
      "execution_count": 33,
      "outputs": [
        {
          "output_type": "stream",
          "name": "stdout",
          "text": [
            "1/1 [==============================] - 0s 65ms/step\n",
            "0\n",
            "blasti\n"
          ]
        }
      ]
    },
    {
      "cell_type": "code",
      "source": [
        "# Testing 2\n",
        "img1 = image.load_img('/content/birds/test_data/cmnmyn/DSC_7625.jpg',target_size=(120,120))\n",
        "img1 = image.img_to_array(img1)\n",
        "img1 = np.expand_dims(img1,axis=0)\n",
        "pred = np.argmax(model.predict(img1))\n",
        "print(pred)\n",
        "output = ['blasti', 'bonegl', 'brhkyt', 'cbrtsh', 'cmnmyn', 'gretit', 'hilpig', 'himbul', 'himgri', 'hsparo', 'indvul', 'jglowl', 'lbicrw', 'mgprob', 'rebimg', 'wcrsrt']\n",
        "print(output[pred])"
      ],
      "metadata": {
        "colab": {
          "base_uri": "https://localhost:8080/"
        },
        "id": "uOBq3qyFK1Ny",
        "outputId": "30a07230-e25a-42ea-c60c-7ffa28f6856d"
      },
      "execution_count": 34,
      "outputs": [
        {
          "output_type": "stream",
          "name": "stdout",
          "text": [
            "1/1 [==============================] - 0s 22ms/step\n",
            "7\n",
            "himbul\n"
          ]
        }
      ]
    },
    {
      "cell_type": "code",
      "source": [
        "model.save('birds.h5')"
      ],
      "metadata": {
        "id": "ce4HXRHK8BM1"
      },
      "execution_count": 35,
      "outputs": []
    },
    {
      "cell_type": "code",
      "source": [
        "import numpy as np\n",
        "from tensorflow.keras.preprocessing import image"
      ],
      "metadata": {
        "id": "TSrtX6pC8Cc0"
      },
      "execution_count": 8,
      "outputs": []
    },
    {
      "cell_type": "code",
      "source": [
        "# Testing 1\n",
        "img1 = image.load_img('/content/birds/test_data/blasti/DSC_6396.jpg',target_size=(120,120))\n",
        "img1 = image.img_to_array(img1)\n",
        "img1 = np.expand_dims(img1,axis=0)\n",
        "pred = np.argmax(model.predict(img1))\n",
        "print(pred)\n",
        "output = ['blasti', 'bonegl', 'brhkyt', 'cbrtsh', 'cmnmyn', 'gretit', 'hilpig', 'himbul', 'himgri', 'hsparo', 'indvul', 'jglowl', 'lbicrw', 'mgprob', 'rebimg', 'wcrsrt']\n",
        "print(output[pred])"
      ],
      "metadata": {
        "id": "XhZy_vyP8FEv",
        "colab": {
          "base_uri": "https://localhost:8080/"
        },
        "outputId": "8b88355c-ff1f-45bf-8018-3b480883971b"
      },
      "execution_count": null,
      "outputs": [
        {
          "output_type": "stream",
          "name": "stdout",
          "text": [
            "1/1 [==============================] - 0s 127ms/step\n",
            "7\n",
            "himbul\n"
          ]
        }
      ]
    },
    {
      "cell_type": "code",
      "source": [
        "# Testing 2\n",
        "img1 = image.load_img('/content/birds/test_data/cmnmyn/DSC_7625.jpg',target_size=(120,120))\n",
        "img1 = image.img_to_array(img1)\n",
        "img1 = np.expand_dims(img1,axis=0)\n",
        "pred = np.argmax(model.predict(img1))\n",
        "print(pred)\n",
        "output = ['blasti', 'bonegl', 'brhkyt', 'cbrtsh', 'cmnmyn', 'gretit', 'hilpig', 'himbul', 'himgri', 'hsparo', 'indvul', 'jglowl', 'lbicrw', 'mgprob', 'rebimg', 'wcrsrt']\n",
        "print(output[pred])"
      ],
      "metadata": {
        "colab": {
          "base_uri": "https://localhost:8080/"
        },
        "id": "1tFEBXDgI-di",
        "outputId": "3af31a92-af78-4ce7-a1bc-9ce61a6d481d"
      },
      "execution_count": null,
      "outputs": [
        {
          "output_type": "stream",
          "name": "stdout",
          "text": [
            "1/1 [==============================] - 0s 32ms/step\n",
            "7\n",
            "himbul\n"
          ]
        }
      ]
    },
    {
      "cell_type": "code",
      "source": [
        "#adding feature extraction layers\n",
        "\n",
        "model = Sequential()\n",
        "model.add(Convolution2D(12,(3,3),activation='relu',input_shape=(120, 120, 3)))\n",
        "model.add(MaxPooling2D(pool_size=(2,2)))\n",
        "model.add(Convolution2D(24,(3,3),activation='relu'))\n",
        "model.add(MaxPooling2D(pool_size=(2,2)))\n",
        "model.add(Convolution2D(36,(3,3),activation='relu'))\n",
        "model.add(MaxPooling2D(pool_size=(2,2)))\n",
        "model.add(Flatten())\n",
        "model.add(Dense(75,activation='relu'))\n",
        "model.add(Dense(60,activation='relu'))\n",
        "model.add(Dense(35,activation='relu'))\n",
        "model.add(Dense(16,activation='softmax'))"
      ],
      "metadata": {
        "id": "AoiPnjn9bCCN"
      },
      "execution_count": 12,
      "outputs": []
    },
    {
      "cell_type": "code",
      "source": [
        "model.summary()"
      ],
      "metadata": {
        "colab": {
          "base_uri": "https://localhost:8080/"
        },
        "id": "zbxstyALbIIG",
        "outputId": "aaa12cfd-3c31-4e82-fe05-018faa76ddc4"
      },
      "execution_count": 13,
      "outputs": [
        {
          "output_type": "stream",
          "name": "stdout",
          "text": [
            "Model: \"sequential_1\"\n",
            "_________________________________________________________________\n",
            " Layer (type)                Output Shape              Param #   \n",
            "=================================================================\n",
            " conv2d_3 (Conv2D)           (None, 118, 118, 12)      336       \n",
            "                                                                 \n",
            " max_pooling2d_3 (MaxPooling  (None, 59, 59, 12)       0         \n",
            " 2D)                                                             \n",
            "                                                                 \n",
            " conv2d_4 (Conv2D)           (None, 57, 57, 24)        2616      \n",
            "                                                                 \n",
            " max_pooling2d_4 (MaxPooling  (None, 28, 28, 24)       0         \n",
            " 2D)                                                             \n",
            "                                                                 \n",
            " conv2d_5 (Conv2D)           (None, 26, 26, 36)        7812      \n",
            "                                                                 \n",
            " max_pooling2d_5 (MaxPooling  (None, 13, 13, 36)       0         \n",
            " 2D)                                                             \n",
            "                                                                 \n",
            " flatten_1 (Flatten)         (None, 6084)              0         \n",
            "                                                                 \n",
            " dense_4 (Dense)             (None, 75)                456375    \n",
            "                                                                 \n",
            " dense_5 (Dense)             (None, 60)                4560      \n",
            "                                                                 \n",
            " dense_6 (Dense)             (None, 35)                2135      \n",
            "                                                                 \n",
            " dense_7 (Dense)             (None, 16)                576       \n",
            "                                                                 \n",
            "=================================================================\n",
            "Total params: 474,410\n",
            "Trainable params: 474,410\n",
            "Non-trainable params: 0\n",
            "_________________________________________________________________\n"
          ]
        }
      ]
    },
    {
      "cell_type": "code",
      "source": [
        "model.compile(optimizer='adam',loss='categorical_crossentropy',metrics=['accuracy'])"
      ],
      "metadata": {
        "id": "-PGGoyrubJxC"
      },
      "execution_count": 14,
      "outputs": []
    },
    {
      "cell_type": "code",
      "source": [
        "model.fit(train,batch_size=8,validation_data=test,epochs=30)"
      ],
      "metadata": {
        "colab": {
          "base_uri": "https://localhost:8080/"
        },
        "id": "tk33WswqbLnr",
        "outputId": "a7e6326b-545c-492f-86f9-87402ba532fc"
      },
      "execution_count": 16,
      "outputs": [
        {
          "output_type": "stream",
          "name": "stdout",
          "text": [
            "Epoch 1/30\n",
            "19/19 [==============================] - 72s 4s/step - loss: 2.7752 - accuracy: 0.1000 - val_loss: 2.7392 - val_accuracy: 0.1210\n",
            "Epoch 2/30\n",
            "19/19 [==============================] - 71s 4s/step - loss: 2.7168 - accuracy: 0.1267 - val_loss: 2.7100 - val_accuracy: 0.1720\n",
            "Epoch 3/30\n",
            "19/19 [==============================] - 71s 4s/step - loss: 2.6754 - accuracy: 0.1800 - val_loss: 2.6541 - val_accuracy: 0.1720\n",
            "Epoch 4/30\n",
            "19/19 [==============================] - 115s 6s/step - loss: 2.5263 - accuracy: 0.2000 - val_loss: 2.6280 - val_accuracy: 0.1847\n",
            "Epoch 5/30\n",
            "19/19 [==============================] - 72s 4s/step - loss: 2.3910 - accuracy: 0.2000 - val_loss: 2.6423 - val_accuracy: 0.1911\n",
            "Epoch 6/30\n",
            "19/19 [==============================] - 71s 4s/step - loss: 2.3283 - accuracy: 0.2000 - val_loss: 2.6675 - val_accuracy: 0.1975\n",
            "Epoch 7/30\n",
            "19/19 [==============================] - 73s 4s/step - loss: 2.2447 - accuracy: 0.3333 - val_loss: 3.0575 - val_accuracy: 0.1401\n",
            "Epoch 8/30\n",
            "19/19 [==============================] - 70s 4s/step - loss: 2.2627 - accuracy: 0.2800 - val_loss: 2.5876 - val_accuracy: 0.1911\n",
            "Epoch 9/30\n",
            "19/19 [==============================] - 71s 4s/step - loss: 2.0465 - accuracy: 0.3067 - val_loss: 2.5880 - val_accuracy: 0.2803\n",
            "Epoch 10/30\n",
            "19/19 [==============================] - 70s 4s/step - loss: 1.9342 - accuracy: 0.3533 - val_loss: 2.6432 - val_accuracy: 0.2293\n",
            "Epoch 11/30\n",
            "19/19 [==============================] - 112s 6s/step - loss: 1.8282 - accuracy: 0.4000 - val_loss: 2.6470 - val_accuracy: 0.2166\n",
            "Epoch 12/30\n",
            "19/19 [==============================] - 72s 4s/step - loss: 1.6990 - accuracy: 0.3867 - val_loss: 2.7164 - val_accuracy: 0.2229\n",
            "Epoch 13/30\n",
            "19/19 [==============================] - 71s 4s/step - loss: 1.5751 - accuracy: 0.4733 - val_loss: 2.8814 - val_accuracy: 0.2293\n",
            "Epoch 14/30\n",
            "19/19 [==============================] - 73s 4s/step - loss: 1.4663 - accuracy: 0.5200 - val_loss: 2.8650 - val_accuracy: 0.2293\n",
            "Epoch 15/30\n",
            "19/19 [==============================] - 71s 4s/step - loss: 1.2494 - accuracy: 0.5733 - val_loss: 3.0510 - val_accuracy: 0.2420\n",
            "Epoch 16/30\n",
            "19/19 [==============================] - 71s 4s/step - loss: 1.1979 - accuracy: 0.5733 - val_loss: 3.3432 - val_accuracy: 0.2229\n",
            "Epoch 17/30\n",
            "19/19 [==============================] - 72s 4s/step - loss: 1.1214 - accuracy: 0.6000 - val_loss: 3.2660 - val_accuracy: 0.2739\n",
            "Epoch 18/30\n",
            "19/19 [==============================] - 113s 6s/step - loss: 0.9172 - accuracy: 0.7067 - val_loss: 3.6161 - val_accuracy: 0.2548\n",
            "Epoch 19/30\n",
            "19/19 [==============================] - 73s 4s/step - loss: 0.8515 - accuracy: 0.7133 - val_loss: 4.0206 - val_accuracy: 0.2357\n",
            "Epoch 20/30\n",
            "19/19 [==============================] - 72s 4s/step - loss: 0.8174 - accuracy: 0.7000 - val_loss: 4.2531 - val_accuracy: 0.2675\n",
            "Epoch 21/30\n",
            "19/19 [==============================] - 71s 4s/step - loss: 0.8346 - accuracy: 0.6667 - val_loss: 3.8256 - val_accuracy: 0.2293\n",
            "Epoch 22/30\n",
            "19/19 [==============================] - 71s 4s/step - loss: 0.6628 - accuracy: 0.7733 - val_loss: 3.6074 - val_accuracy: 0.3057\n",
            "Epoch 23/30\n",
            "19/19 [==============================] - 71s 4s/step - loss: 0.6134 - accuracy: 0.7933 - val_loss: 4.5153 - val_accuracy: 0.2357\n",
            "Epoch 24/30\n",
            "19/19 [==============================] - 72s 4s/step - loss: 0.7353 - accuracy: 0.7467 - val_loss: 4.3329 - val_accuracy: 0.2994\n",
            "Epoch 25/30\n",
            "19/19 [==============================] - 113s 6s/step - loss: 0.5819 - accuracy: 0.8067 - val_loss: 4.4335 - val_accuracy: 0.2675\n",
            "Epoch 26/30\n",
            "19/19 [==============================] - 72s 4s/step - loss: 0.4508 - accuracy: 0.8533 - val_loss: 4.9923 - val_accuracy: 0.2803\n",
            "Epoch 27/30\n",
            "19/19 [==============================] - 72s 4s/step - loss: 0.4247 - accuracy: 0.9000 - val_loss: 5.0310 - val_accuracy: 0.2102\n",
            "Epoch 28/30\n",
            "19/19 [==============================] - 71s 4s/step - loss: 0.6916 - accuracy: 0.8000 - val_loss: 4.0374 - val_accuracy: 0.2102\n",
            "Epoch 29/30\n",
            "19/19 [==============================] - 71s 4s/step - loss: 0.3888 - accuracy: 0.8800 - val_loss: 4.4067 - val_accuracy: 0.2994\n",
            "Epoch 30/30\n",
            "19/19 [==============================] - 72s 4s/step - loss: 0.2676 - accuracy: 0.9200 - val_loss: 5.2294 - val_accuracy: 0.2994\n"
          ]
        },
        {
          "output_type": "execute_result",
          "data": {
            "text/plain": [
              "<keras.callbacks.History at 0x7f261b6e0f10>"
            ]
          },
          "metadata": {},
          "execution_count": 16
        }
      ]
    },
    {
      "cell_type": "code",
      "source": [
        "# Testing 1\n",
        "img1 = image.load_img('/content/birds/test_data/blasti/DSC_6396.jpg',target_size=(120,120))\n",
        "img1 = image.img_to_array(img1)\n",
        "img1 = np.expand_dims(img1,axis=0)\n",
        "pred = np.argmax(model.predict(img1))\n",
        "print(pred)\n",
        "output = ['blasti', 'bonegl', 'brhkyt', 'cbrtsh', 'cmnmyn', 'gretit', 'hilpig', 'himbul', 'himgri', 'hsparo', 'indvul', 'jglowl', 'lbicrw', 'mgprob', 'rebimg', 'wcrsrt']\n",
        "print(output[pred])"
      ],
      "metadata": {
        "id": "p9M1HzqobVvr",
        "colab": {
          "base_uri": "https://localhost:8080/"
        },
        "outputId": "ecda9c44-81cf-4fb7-ea0e-80754ab15f28"
      },
      "execution_count": 18,
      "outputs": [
        {
          "output_type": "stream",
          "name": "stdout",
          "text": [
            "1/1 [==============================] - 0s 167ms/step\n",
            "11\n",
            "jglowl\n"
          ]
        }
      ]
    },
    {
      "cell_type": "code",
      "source": [
        "# Testing 2\n",
        "img1 = image.load_img('/content/birds/test_data/cmnmyn/DSC_7625.jpg',target_size=(120,120))\n",
        "img1 = image.img_to_array(img1)\n",
        "img1 = np.expand_dims(img1,axis=0)\n",
        "pred = np.argmax(model.predict(img1))\n",
        "print(pred)\n",
        "output = ['blasti', 'bonegl', 'brhkyt', 'cbrtsh', 'cmnmyn', 'gretit', 'hilpig', 'himbul', 'himgri', 'hsparo', 'indvul', 'jglowl', 'lbicrw', 'mgprob', 'rebimg', 'wcrsrt']\n",
        "print(output[pred])"
      ],
      "metadata": {
        "colab": {
          "base_uri": "https://localhost:8080/"
        },
        "id": "IbO2SMeZ63e2",
        "outputId": "fcd0753a-4d0c-4a16-e486-cf00df4e4a5c"
      },
      "execution_count": 19,
      "outputs": [
        {
          "output_type": "stream",
          "name": "stdout",
          "text": [
            "1/1 [==============================] - 0s 25ms/step\n",
            "7\n",
            "himbul\n"
          ]
        }
      ]
    },
    {
      "cell_type": "code",
      "source": [
        "#model tuning with droput, batch normalization and early stopping"
      ],
      "metadata": {
        "id": "GWWfmmZrbhn4"
      },
      "execution_count": null,
      "outputs": []
    },
    {
      "cell_type": "code",
      "source": [
        "from tensorflow.keras.layers import BatchNormalization, Dropout"
      ],
      "metadata": {
        "id": "T03xbPW3bmg1"
      },
      "execution_count": 20,
      "outputs": []
    },
    {
      "cell_type": "code",
      "source": [
        "model = Sequential()\n",
        "model.add(Convolution2D(12,(3,3),activation='relu',input_shape=(120, 120, 3)))\n",
        "model.add(BatchNormalization())\n",
        "model.add(MaxPooling2D(pool_size=(2,2)))\n",
        "model.add(Dropout(0.2))\n",
        "model.add(Convolution2D(24,(3,3),activation='relu'))\n",
        "model.add(BatchNormalization())\n",
        "model.add(MaxPooling2D(pool_size=(2,2)))\n",
        "model.add(Dropout(0.2))\n",
        "model.add(Convolution2D(36,(3,3),activation='relu'))\n",
        "model.add(BatchNormalization())\n",
        "model.add(MaxPooling2D(pool_size=(2,2)))\n",
        "model.add(Dropout(0.2))\n",
        "model.add(Flatten())\n",
        "model.add(Dense(75,activation='relu'))\n",
        "model.add(BatchNormalization())\n",
        "model.add(Dropout(0.1))\n",
        "model.add(Dense(60,activation='relu'))\n",
        "model.add(Dense(35,activation='relu'))\n",
        "model.add(Dense(16,activation='softmax'))"
      ],
      "metadata": {
        "id": "OmDGg3GYbncg"
      },
      "execution_count": 21,
      "outputs": []
    },
    {
      "cell_type": "code",
      "source": [
        "model.summary()"
      ],
      "metadata": {
        "colab": {
          "base_uri": "https://localhost:8080/"
        },
        "id": "aK734MQwbuzv",
        "outputId": "8d78bff4-6550-4d2f-ea45-c377dabd0fd0"
      },
      "execution_count": 22,
      "outputs": [
        {
          "output_type": "stream",
          "name": "stdout",
          "text": [
            "Model: \"sequential_2\"\n",
            "_________________________________________________________________\n",
            " Layer (type)                Output Shape              Param #   \n",
            "=================================================================\n",
            " conv2d_6 (Conv2D)           (None, 118, 118, 12)      336       \n",
            "                                                                 \n",
            " batch_normalization (BatchN  (None, 118, 118, 12)     48        \n",
            " ormalization)                                                   \n",
            "                                                                 \n",
            " max_pooling2d_6 (MaxPooling  (None, 59, 59, 12)       0         \n",
            " 2D)                                                             \n",
            "                                                                 \n",
            " dropout (Dropout)           (None, 59, 59, 12)        0         \n",
            "                                                                 \n",
            " conv2d_7 (Conv2D)           (None, 57, 57, 24)        2616      \n",
            "                                                                 \n",
            " batch_normalization_1 (Batc  (None, 57, 57, 24)       96        \n",
            " hNormalization)                                                 \n",
            "                                                                 \n",
            " max_pooling2d_7 (MaxPooling  (None, 28, 28, 24)       0         \n",
            " 2D)                                                             \n",
            "                                                                 \n",
            " dropout_1 (Dropout)         (None, 28, 28, 24)        0         \n",
            "                                                                 \n",
            " conv2d_8 (Conv2D)           (None, 26, 26, 36)        7812      \n",
            "                                                                 \n",
            " batch_normalization_2 (Batc  (None, 26, 26, 36)       144       \n",
            " hNormalization)                                                 \n",
            "                                                                 \n",
            " max_pooling2d_8 (MaxPooling  (None, 13, 13, 36)       0         \n",
            " 2D)                                                             \n",
            "                                                                 \n",
            " dropout_2 (Dropout)         (None, 13, 13, 36)        0         \n",
            "                                                                 \n",
            " flatten_2 (Flatten)         (None, 6084)              0         \n",
            "                                                                 \n",
            " dense_8 (Dense)             (None, 75)                456375    \n",
            "                                                                 \n",
            " batch_normalization_3 (Batc  (None, 75)               300       \n",
            " hNormalization)                                                 \n",
            "                                                                 \n",
            " dropout_3 (Dropout)         (None, 75)                0         \n",
            "                                                                 \n",
            " dense_9 (Dense)             (None, 60)                4560      \n",
            "                                                                 \n",
            " dense_10 (Dense)            (None, 35)                2135      \n",
            "                                                                 \n",
            " dense_11 (Dense)            (None, 16)                576       \n",
            "                                                                 \n",
            "=================================================================\n",
            "Total params: 474,998\n",
            "Trainable params: 474,704\n",
            "Non-trainable params: 294\n",
            "_________________________________________________________________\n"
          ]
        }
      ]
    },
    {
      "cell_type": "code",
      "source": [
        "model.compile(optimizer='adam',loss='categorical_crossentropy',metrics=['accuracy'])"
      ],
      "metadata": {
        "id": "lDqLNm7Xbwa6"
      },
      "execution_count": 23,
      "outputs": []
    },
    {
      "cell_type": "code",
      "source": [
        "from tensorflow.keras.callbacks import EarlyStopping"
      ],
      "metadata": {
        "id": "QKwymi0Oby_c"
      },
      "execution_count": 24,
      "outputs": []
    },
    {
      "cell_type": "code",
      "source": [
        "early_stop = EarlyStopping(monitor='accuracy',patience=8)"
      ],
      "metadata": {
        "id": "eWFZnaFSb0vb"
      },
      "execution_count": 25,
      "outputs": []
    },
    {
      "cell_type": "code",
      "source": [
        "model.fit(train,batch_size=8,validation_data=test,epochs=30,callbacks=early_stop)"
      ],
      "metadata": {
        "colab": {
          "base_uri": "https://localhost:8080/"
        },
        "id": "OvrN9Hc-b3gL",
        "outputId": "a4b0c3f5-7a95-4ffa-f7c9-c511717b789b"
      },
      "execution_count": 27,
      "outputs": [
        {
          "output_type": "stream",
          "name": "stdout",
          "text": [
            "Epoch 1/30\n",
            "19/19 [==============================] - 74s 4s/step - loss: 2.7375 - accuracy: 0.1133 - val_loss: 2.8165 - val_accuracy: 0.0382\n",
            "Epoch 2/30\n",
            "19/19 [==============================] - 72s 4s/step - loss: 2.4099 - accuracy: 0.2933 - val_loss: 2.9815 - val_accuracy: 0.0573\n",
            "Epoch 3/30\n",
            "19/19 [==============================] - 72s 4s/step - loss: 2.2163 - accuracy: 0.3000 - val_loss: 3.3225 - val_accuracy: 0.0955\n",
            "Epoch 4/30\n",
            "19/19 [==============================] - 73s 4s/step - loss: 2.0348 - accuracy: 0.3800 - val_loss: 3.8006 - val_accuracy: 0.0955\n",
            "Epoch 5/30\n",
            "19/19 [==============================] - 71s 4s/step - loss: 1.9007 - accuracy: 0.3733 - val_loss: 3.9953 - val_accuracy: 0.0955\n",
            "Epoch 6/30\n",
            "19/19 [==============================] - 72s 4s/step - loss: 1.8124 - accuracy: 0.4400 - val_loss: 4.1309 - val_accuracy: 0.0955\n",
            "Epoch 7/30\n",
            "19/19 [==============================] - 71s 4s/step - loss: 1.6800 - accuracy: 0.5533 - val_loss: 4.0821 - val_accuracy: 0.0955\n",
            "Epoch 8/30\n",
            "19/19 [==============================] - 72s 4s/step - loss: 1.5710 - accuracy: 0.5200 - val_loss: 4.2937 - val_accuracy: 0.1401\n",
            "Epoch 9/30\n",
            "19/19 [==============================] - 73s 4s/step - loss: 1.5380 - accuracy: 0.5733 - val_loss: 4.1919 - val_accuracy: 0.0510\n",
            "Epoch 10/30\n",
            "19/19 [==============================] - 71s 4s/step - loss: 1.4541 - accuracy: 0.6000 - val_loss: 4.1115 - val_accuracy: 0.0573\n",
            "Epoch 11/30\n",
            "19/19 [==============================] - 73s 4s/step - loss: 1.2389 - accuracy: 0.5733 - val_loss: 4.4313 - val_accuracy: 0.0955\n",
            "Epoch 12/30\n",
            "19/19 [==============================] - 71s 4s/step - loss: 1.3062 - accuracy: 0.6200 - val_loss: 4.1873 - val_accuracy: 0.1019\n",
            "Epoch 13/30\n",
            "19/19 [==============================] - 72s 4s/step - loss: 1.0984 - accuracy: 0.7133 - val_loss: 4.9348 - val_accuracy: 0.1656\n",
            "Epoch 14/30\n",
            "19/19 [==============================] - 72s 4s/step - loss: 1.0411 - accuracy: 0.7000 - val_loss: 4.2537 - val_accuracy: 0.1911\n",
            "Epoch 15/30\n",
            "19/19 [==============================] - 72s 4s/step - loss: 0.9645 - accuracy: 0.7133 - val_loss: 4.0645 - val_accuracy: 0.0955\n",
            "Epoch 16/30\n",
            "19/19 [==============================] - 72s 4s/step - loss: 0.8771 - accuracy: 0.7533 - val_loss: 4.0130 - val_accuracy: 0.1338\n",
            "Epoch 17/30\n",
            "19/19 [==============================] - 72s 4s/step - loss: 0.7654 - accuracy: 0.8133 - val_loss: 4.4223 - val_accuracy: 0.1083\n",
            "Epoch 18/30\n",
            "19/19 [==============================] - 73s 4s/step - loss: 0.7074 - accuracy: 0.8333 - val_loss: 4.9496 - val_accuracy: 0.1083\n",
            "Epoch 19/30\n",
            "19/19 [==============================] - 72s 4s/step - loss: 0.6317 - accuracy: 0.8067 - val_loss: 4.3281 - val_accuracy: 0.1465\n",
            "Epoch 20/30\n",
            "19/19 [==============================] - 72s 4s/step - loss: 0.5489 - accuracy: 0.8533 - val_loss: 4.9337 - val_accuracy: 0.1274\n",
            "Epoch 21/30\n",
            "19/19 [==============================] - 72s 4s/step - loss: 0.5776 - accuracy: 0.8267 - val_loss: 3.9951 - val_accuracy: 0.1847\n",
            "Epoch 22/30\n",
            "19/19 [==============================] - 72s 4s/step - loss: 0.9834 - accuracy: 0.6933 - val_loss: 3.7366 - val_accuracy: 0.1465\n",
            "Epoch 23/30\n",
            "19/19 [==============================] - 113s 6s/step - loss: 0.9426 - accuracy: 0.6933 - val_loss: 4.2794 - val_accuracy: 0.1401\n",
            "Epoch 24/30\n",
            "19/19 [==============================] - 72s 4s/step - loss: 0.5620 - accuracy: 0.8600 - val_loss: 4.2175 - val_accuracy: 0.1401\n",
            "Epoch 25/30\n",
            "19/19 [==============================] - 72s 4s/step - loss: 0.9017 - accuracy: 0.7533 - val_loss: 3.8570 - val_accuracy: 0.1465\n",
            "Epoch 26/30\n",
            "19/19 [==============================] - 71s 4s/step - loss: 0.8199 - accuracy: 0.7867 - val_loss: 4.1417 - val_accuracy: 0.0828\n",
            "Epoch 27/30\n",
            "19/19 [==============================] - 72s 4s/step - loss: 0.7299 - accuracy: 0.7800 - val_loss: 4.1315 - val_accuracy: 0.1146\n",
            "Epoch 28/30\n",
            "19/19 [==============================] - 73s 4s/step - loss: 0.5150 - accuracy: 0.8600 - val_loss: 4.2377 - val_accuracy: 0.1465\n",
            "Epoch 29/30\n",
            "19/19 [==============================] - 71s 4s/step - loss: 0.3801 - accuracy: 0.9067 - val_loss: 4.4989 - val_accuracy: 0.1019\n",
            "Epoch 30/30\n",
            "19/19 [==============================] - 72s 4s/step - loss: 0.4698 - accuracy: 0.8533 - val_loss: 4.3378 - val_accuracy: 0.1083\n"
          ]
        },
        {
          "output_type": "execute_result",
          "data": {
            "text/plain": [
              "<keras.callbacks.History at 0x7f260473a5f0>"
            ]
          },
          "metadata": {},
          "execution_count": 27
        }
      ]
    },
    {
      "cell_type": "code",
      "source": [
        "# Testing 1\n",
        "img1 = image.load_img('/content/birds/test_data/blasti/DSC_6396.jpg',target_size=(120,120))\n",
        "img1 = image.img_to_array(img1)\n",
        "img1 = np.expand_dims(img1,axis=0)\n",
        "pred = np.argmax(model.predict(img1))\n",
        "print(pred)\n",
        "output = ['blasti', 'bonegl', 'brhkyt', 'cbrtsh', 'cmnmyn', 'gretit', 'hilpig', 'himbul', 'himgri', 'hsparo', 'indvul', 'jglowl', 'lbicrw', 'mgprob', 'rebimg', 'wcrsrt']\n",
        "print(output[pred])"
      ],
      "metadata": {
        "id": "lMHpya7Vb76Z",
        "colab": {
          "base_uri": "https://localhost:8080/"
        },
        "outputId": "85128f76-6aa1-4544-9ac4-4ff27f394979"
      },
      "execution_count": 28,
      "outputs": [
        {
          "output_type": "stream",
          "name": "stdout",
          "text": [
            "1/1 [==============================] - 0s 139ms/step\n",
            "14\n",
            "rebimg\n"
          ]
        }
      ]
    },
    {
      "cell_type": "code",
      "source": [
        "# Testing 2\n",
        "img1 = image.load_img('/content/birds/test_data/cmnmyn/DSC_7625.jpg',target_size=(120,120))\n",
        "img1 = image.img_to_array(img1)\n",
        "img1 = np.expand_dims(img1,axis=0)\n",
        "pred = np.argmax(model.predict(img1))\n",
        "print(pred)\n",
        "output = ['blasti', 'bonegl', 'brhkyt', 'cbrtsh', 'cmnmyn', 'gretit', 'hilpig', 'himbul', 'himgri', 'hsparo', 'indvul', 'jglowl', 'lbicrw', 'mgprob', 'rebimg', 'wcrsrt']\n",
        "print(output[pred])"
      ],
      "metadata": {
        "colab": {
          "base_uri": "https://localhost:8080/"
        },
        "id": "3MXwhQCu7NxK",
        "outputId": "32a280f2-d77e-4f0c-9a32-b50c6a44f021"
      },
      "execution_count": 29,
      "outputs": [
        {
          "output_type": "stream",
          "name": "stdout",
          "text": [
            "1/1 [==============================] - 0s 25ms/step\n",
            "14\n",
            "rebimg\n"
          ]
        }
      ]
    }
  ]
}